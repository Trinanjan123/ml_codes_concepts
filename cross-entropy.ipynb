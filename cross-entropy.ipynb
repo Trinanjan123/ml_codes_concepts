{
 "cells": [
  {
   "cell_type": "markdown",
   "id": "9eb2bd8e-0355-4760-8545-906f016f3e31",
   "metadata": {},
   "source": [
    "### Cross Entropy from scratch in neural networks"
   ]
  },
  {
   "cell_type": "markdown",
   "id": "7ba72b5e-9f2d-481b-aaea-cf6488a8e148",
   "metadata": {},
   "source": [
    "#### Sample data"
   ]
  },
  {
   "cell_type": "code",
   "execution_count": 1,
   "id": "a547228a-e714-41d4-996d-212954b53aed",
   "metadata": {},
   "outputs": [
    {
     "name": "stdout",
     "output_type": "stream",
     "text": [
      "Tokenized text: [17250, 11, 703, 389, 345, 30, 314, 716, 4673, 3272, 40709, 2994, 290, 703, 340, 318, 3519, 284, 40709, 13]\n",
      "Number of tokens: 20\n"
     ]
    }
   ],
   "source": [
    "# Let us try to implement cross entropy loss used while training GPT2 (or any LLM or that matter)\n",
    "# We will take a few text examples and calculate both the forward and backward pass \n",
    "# from scratch\n",
    "import tiktoken\n",
    "tokenizer = tiktoken.get_encoding(\"gpt2\")\n",
    "\n",
    "text = \"Hi, how are you? I am learning cross entropy loss and how it is related to entropy.\"\n",
    "\n",
    "tokens = tokenizer.encode(text)\n",
    "\n",
    "print(f\"Tokenized text: {tokens}\")\n",
    "print(f\"Number of tokens: {len(tokens)}\")"
   ]
  },
  {
   "cell_type": "markdown",
   "id": "e365b223-7dd1-4721-b430-cf8e147a240e",
   "metadata": {},
   "source": [
    "#### Creating input and output tensors"
   ]
  },
  {
   "cell_type": "code",
   "execution_count": 2,
   "id": "9abf5c09-ace8-4c79-b687-1bc154c19798",
   "metadata": {},
   "outputs": [
    {
     "name": "stdout",
     "output_type": "stream",
     "text": [
      "Input: tensor([[  318,  3519,   284, 40709],\n",
      "        [40709,  2994,   290,   703]]), shape: torch.Size([2, 4])\n",
      "\n",
      "Output: tensor([[ 3519,   284, 40709,    13],\n",
      "        [ 2994,   290,   703,   340]]), shape: torch.Size([2, 4])\n"
     ]
    }
   ],
   "source": [
    "# Since, neural networks are trained in batches, let us create a batch of size 2\n",
    "import torch\n",
    "\n",
    "# First we convert the tokens list to torch tensors and then create the batch\n",
    "tokenized = torch.tensor(tokens)\n",
    "\n",
    "batch_size = 2\n",
    "context_length = 4\n",
    "\n",
    "# Let us create one single mini-batch example\n",
    "ix = torch.randint(len(tokenized)-context_length, (batch_size,))\n",
    "input_ids = torch.stack([tokenized[i:i+context_length] for i in ix])\n",
    "output_ids = torch.stack([tokenized[i+1:i+context_length+1] for i in ix])\n",
    "\n",
    "print(f\"Input: {input_ids}, shape: {input_ids.shape}\")\n",
    "print(f\"\\nOutput: {output_ids}, shape: {output_ids.shape}\")"
   ]
  },
  {
   "cell_type": "code",
   "execution_count": 3,
   "id": "10fd6caa-efff-4382-a299-97841e3188e7",
   "metadata": {},
   "outputs": [],
   "source": [
    "# The way to read the input and output tensor is \n",
    "# When input is 11, output is 703\n",
    "# When input is [11, 703], the output is 389\n",
    "# When input is [11, 703, 389], output is 345\n",
    "# and so on"
   ]
  },
  {
   "cell_type": "code",
   "execution_count": 4,
   "id": "eb16a76b-0b11-4935-995b-0377324f2b91",
   "metadata": {},
   "outputs": [
    {
     "name": "stdout",
     "output_type": "stream",
     "text": [
      "Embedding output shape: torch.Size([2, 4, 100])\n",
      "Logits shape: torch.Size([2, 4, 50257])\n"
     ]
    }
   ],
   "source": [
    "# Let us have a dummy matrix and a vector which will serve as the layer\n",
    "import torch.nn as nn\n",
    "\n",
    "torch.manual_seed(123)\n",
    "\n",
    "# The vocab size (total number of unique tokens) for gpt2 tokenizer is 50257\n",
    "# So, the embedding layer dimensions will be 50257 and 100 (using 100 as the embedding dimension)\n",
    "embedding = nn.Embedding(50257, 100)\n",
    "# Forward pass through the embedding\n",
    "embedding_output = embedding(input_ids) # [batch_size, context_length] --> [batch_size, context_length, 100]\n",
    "print(f\"Embedding output shape: {embedding_output.shape}\")\n",
    "\n",
    "# The weight matrix\n",
    "W = torch.randn((100, 50257))\n",
    "\n",
    "# Forward pass through the network\n",
    "logits = embedding_output @ W # [batch_size, context_length, 100] --> [batch_size, context_length, 50257]\n",
    "print(f\"Logits shape: {logits.shape}\")"
   ]
  },
  {
   "cell_type": "code",
   "execution_count": 5,
   "id": "709ee24b-9f59-4ee9-a5fd-4622a3be430a",
   "metadata": {},
   "outputs": [
    {
     "name": "stdout",
     "output_type": "stream",
     "text": [
      "Sum along the last dimension: tensor([[[1.0000],\n",
      "         [1.0000],\n",
      "         [1.0000],\n",
      "         [1.0000]],\n",
      "\n",
      "        [[1.0000],\n",
      "         [1.0000],\n",
      "         [1.0000],\n",
      "         [1.0000]]], grad_fn=<SumBackward1>)\n",
      "Output index with the highest probabilities: tensor([[[7.4362e-26],\n",
      "         [3.1464e-18],\n",
      "         [3.3123e-21],\n",
      "         [5.2197e-21]],\n",
      "\n",
      "        [[7.9674e-20],\n",
      "         [4.7586e-18],\n",
      "         [1.8158e-23],\n",
      "         [1.3934e-21]]], grad_fn=<GatherBackward0>)\n"
     ]
    }
   ],
   "source": [
    "# Now the cross entropy loss steps\n",
    "import torch.nn.functional as F\n",
    "\n",
    "# 1. Apply softmax to convert the logits to a probability distribution\n",
    "probs = F.softmax(logits, dim=-1)\n",
    "# Checking that we indeed got a probability distribution\n",
    "print(f\"Sum along the last dimension: {torch.sum(probs, dim=-1, keepdim=True)}\")\n",
    "\n",
    "# 2. We want to get the probabilites corresponding to the correct output token in the target\n",
    "output_ids = output_ids.unsqueeze(-1) # adding a third dimension which is required for torch.gather\n",
    "correct_id_probs = torch.gather(probs, dim=-1, index=output_ids)\n",
    "print(f\"Output index with the highest probabilities: {correct_id_probs}\")"
   ]
  },
  {
   "cell_type": "code",
   "execution_count": 6,
   "id": "e12a4a92-8348-439e-8097-caf8ad5c1d73",
   "metadata": {},
   "outputs": [
    {
     "name": "stdout",
     "output_type": "stream",
     "text": [
      "Cross entropy loss: 47.03350830078125\n"
     ]
    }
   ],
   "source": [
    "# Now calculating the loss\n",
    "cross_entropy_loss = -torch.log(correct_id_probs.flatten()).mean()\n",
    "print(f\"Cross entropy loss: {cross_entropy_loss}\")"
   ]
  },
  {
   "cell_type": "code",
   "execution_count": 7,
   "id": "aad45669-c244-4d0b-b0f5-5627733f6cb5",
   "metadata": {},
   "outputs": [],
   "source": [
    "# Implementing the backward pass\n",
    "n = batch_size * context_length\n",
    "\n",
    "with torch.no_grad():\n",
    "    dlogits = F.softmax(logits, dim=-1)\n",
    "    dlogits = dlogits.view(batch_size*context_length, -1)\n",
    "    output_ids = output_ids.view(-1)\n",
    "    dlogits[range(n), output_ids] -= 1\n",
    "    dlogits /= n\n",
    "    dlogits = dlogits.view(batch_size, context_length, -1)"
   ]
  },
  {
   "cell_type": "markdown",
   "id": "05ba6174-f4a7-43db-ae7e-dc5af8e8e7fc",
   "metadata": {},
   "source": [
    "#### Sanity check using pytorch loss.backward()"
   ]
  },
  {
   "cell_type": "code",
   "execution_count": 8,
   "id": "a93c6b27-75c3-47b4-ba01-361f03ad20b3",
   "metadata": {},
   "outputs": [],
   "source": [
    "logits.retain_grad()"
   ]
  },
  {
   "cell_type": "code",
   "execution_count": 9,
   "id": "10c91366-0b0a-4dd4-8cd9-74509743e8e2",
   "metadata": {},
   "outputs": [],
   "source": [
    "loss = F.cross_entropy(logits.flatten(0, 1), output_ids.flatten())\n",
    "\n",
    "loss.backward()"
   ]
  },
  {
   "cell_type": "code",
   "execution_count": 10,
   "id": "418b7fc5-e8cb-4ca7-9321-49e1d8f51150",
   "metadata": {},
   "outputs": [],
   "source": [
    "# Shapes of logits and dlogits should match\n",
    "assert dlogits.shape == logits.grad.shape, \"Shapes of logits and dlogits should match\""
   ]
  },
  {
   "cell_type": "code",
   "execution_count": 14,
   "id": "2ffad20c-f36a-4fa2-a12f-061cddfa59b9",
   "metadata": {},
   "outputs": [
    {
     "data": {
      "text/plain": [
       "True"
      ]
     },
     "execution_count": 14,
     "metadata": {},
     "output_type": "execute_result"
    }
   ],
   "source": [
    "torch.allclose(dlogits, logits.grad)"
   ]
  },
  {
   "cell_type": "code",
   "execution_count": null,
   "id": "83419a4a-ce48-4815-989a-e576002e16c9",
   "metadata": {},
   "outputs": [],
   "source": [
    "# Getting an approximate match"
   ]
  }
 ],
 "metadata": {
  "kernelspec": {
   "display_name": "gen_env",
   "language": "python",
   "name": "gen_env"
  },
  "language_info": {
   "codemirror_mode": {
    "name": "ipython",
    "version": 3
   },
   "file_extension": ".py",
   "mimetype": "text/x-python",
   "name": "python",
   "nbconvert_exporter": "python",
   "pygments_lexer": "ipython3",
   "version": "3.11.2"
  }
 },
 "nbformat": 4,
 "nbformat_minor": 5
}
